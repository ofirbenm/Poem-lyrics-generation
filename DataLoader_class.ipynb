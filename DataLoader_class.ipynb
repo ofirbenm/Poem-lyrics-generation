{
 "cells": [
  {
   "cell_type": "code",
   "execution_count": 4,
   "id": "e9d9f431-efcc-4828-af48-5fc51c1e9809",
   "metadata": {},
   "outputs": [],
   "source": [
    "import torch\n",
    "from torch.utils.data import Dataset, DataLoader\n",
    "\n",
    "import os\n",
    "import pandas as pd\n",
    "import numpy as np\n",
    "import import_ipynb\n",
    "from sklearn.model_selection import train_test_split, ParameterGrid\n",
    "from torchtext.data import get_tokenizer\n",
    "from torch.utils.data import Dataset, DataLoader\n",
    "import torch.optim as optim\n",
    "import torch.nn as nn"
   ]
  },
  {
   "cell_type": "code",
   "execution_count": 5,
   "id": "8b699b27-bde8-4654-9728-3e8de6380b40",
   "metadata": {},
   "outputs": [],
   "source": [
    "# Paths\n",
    "DATA_PATH = 'ass3_file'\n",
    "MIDI_PATH =  os.path.join(DATA_PATH,'midi_files/')\n",
    "TRAIN_PATH =  os.path.join(DATA_PATH,'lyrics_train_set.csv')\n",
    "TEST_PATH =  os.path.join(DATA_PATH,'lyrics_test_set.csv')\n",
    "PICK_PATH = os.path.join(DATA_PATH,'pickle_file')\n",
    "TRAIN_PKL_PATH = os.path.join(PICK_PATH,'train_df.pkl')\n",
    "TEST_PKL_PATH = os.path.join(PICK_PATH,'test_df.pkl')"
   ]
  },
  {
   "cell_type": "code",
   "execution_count": 8,
   "id": "78e9c5b8-32bb-4f95-8afb-cf771b31c474",
   "metadata": {},
   "outputs": [],
   "source": [
    "class SongDataset(torch.utils.data.Dataset):\n",
    "    def __init__(self, X, y, tf, input_features):\n",
    "        self.X = X\n",
    "        self.y = y  \n",
    "        self.tf = tf\n",
    "        self.features = input_features\n",
    "    def __len__(self):\n",
    "        return len(self.X)\n",
    "\n",
    "    def __getitem__(self, index):\n",
    "        input_val = self.X[index]\n",
    "        output_val = self.y[index]\n",
    "        try :  \n",
    "            tf_val = self.tf[index]\n",
    "            features_val = self.features[index]\n",
    "            #term freq Tensor\n",
    "            tf_tensor = torch.tensor(tf_val, dtype=torch.float)\n",
    "            # features Tensor\n",
    "            features_tensor = torch.tensor(features_val, dtype=torch.long)\n",
    "        except: \n",
    "            tf_tensor = torch.tensor(1)\n",
    "            features_tensor = torch.tensor(1)\n",
    "        # Input Tensor\n",
    "        input_tensor = torch.tensor(input_val, dtype=torch.long)\n",
    "        # Output Tensor\n",
    "        target_tensor = torch.tensor(output_val, dtype=torch.float)\n",
    "        \n",
    "        return input_tensor, target_tensor, tf_tensor, features_tensor"
   ]
  },
  {
   "cell_type": "code",
   "execution_count": null,
   "id": "d1b26f6a-40c8-49e8-9b33-b29d6f34da16",
   "metadata": {},
   "outputs": [],
   "source": []
  }
 ],
 "metadata": {
  "kernelspec": {
   "display_name": "ass3_GPU",
   "language": "python",
   "name": "ass3_gpu"
  },
  "language_info": {
   "codemirror_mode": {
    "name": "ipython",
    "version": 3
   },
   "file_extension": ".py",
   "mimetype": "text/x-python",
   "name": "python",
   "nbconvert_exporter": "python",
   "pygments_lexer": "ipython3",
   "version": "3.7.11"
  }
 },
 "nbformat": 4,
 "nbformat_minor": 5
}
