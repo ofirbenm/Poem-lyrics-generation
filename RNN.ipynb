{
 "cells": [
  {
   "cell_type": "code",
   "execution_count": 3,
   "id": "ba38ffc4-8d5e-4b0f-8667-203b98488507",
   "metadata": {},
   "outputs": [],
   "source": [
    "import torch\n",
    "import torch.nn as nn\n",
    "import torch.optim as optim\n",
    "import torch.nn.functional as F\n",
    "\n",
    "class LSTMLyrics(nn.Module):\n",
    "    def __init__(self, total_words, vector_size, word2vec_matrix, num_layers, units, features_size):\n",
    "        super(LSTMLyrics, self).__init__()\n",
    "        \n",
    "        self.total_words = total_words\n",
    "        self.vector_size = vector_size\n",
    "        self.features_size = features_size\n",
    "        self.num_layers = num_layers\n",
    "        self.word2vec_matrix = word2vec_matrix\n",
    "        self.units = units\n",
    "        \n",
    "\n",
    "        # The Embedding layer\n",
    "        self.embedding = nn.Embedding(total_words, vector_size, padding_idx=0,\n",
    "            _weight=torch.tensor(word2vec_matrix, dtype=torch.float))\n",
    "\n",
    "        # LSTM\n",
    "        self.b_rnn = nn.LSTM(vector_size + features_size, units, num_layers, batch_first=True)\n",
    "        \n",
    "        # Dense layer\n",
    "        self.output_dense = nn.Linear(units, vector_size)\n",
    "        \n",
    "    \n",
    "    def forward(self, lyrics_features_input, features_words, prev_state=None):\n",
    "        \n",
    "        if prev_state is None:\n",
    "            # The first hidden state, usually a vecotr of zeros\n",
    "            prev_state = self.init_hidden(lyrics_features_input)\n",
    "        \n",
    "        embedding_layer = self.embedding(lyrics_features_input)\n",
    "        \n",
    "        embedd_layer = torch.cat([embedding_layer, features_words], dim=-1)\n",
    "        \n",
    "        output, state = self.b_rnn(embedd_layer, prev_state)\n",
    "        logits = self.output_dense(output)\n",
    "        return logits\n",
    "\n",
    "    \n",
    "    def init_hidden(self, variable):\n",
    "        # h is the last hidden state from each layer shape (batch, num layers, hidden_size)\n",
    "        return (torch.zeros((self.num_layers, variable.size(0), self.units), device=variable.device),\n",
    "                torch.zeros((self.num_layers, variable.size(0), self.units), device=variable.device))"
   ]
  },
  {
   "cell_type": "code",
   "execution_count": 2,
   "id": "250e9b57-feb4-4fc4-a8af-251e49b6cc4b",
   "metadata": {},
   "outputs": [],
   "source": [
    "class Custom_CosineEmbeddingLoss(nn.Module):\n",
    "    def __init__(self):\n",
    "        super(Custom_CosineEmbeddingLoss, self).__init__();\n",
    "    \n",
    "    def forward(self, predictions, targets):\n",
    "        mat = np.zeros((predictions.shape[0],predictions.shape[1]))\n",
    "        \n",
    "        for index_batch, value_batch in enumerate(predictions):\n",
    "            for index_seq, value_seq in enumerate(value_batch):\n",
    "                target_seq = targets[index_batch, index_seq, :]\n",
    "                mat[index_batch, index_seq] = 1- torch.dot(value_seq, target_seq) / (torch.norm(value_seq) * torch.norm(target_seq))\n",
    "                \n",
    "        return torch.tensor(np.mean(mat), dtype = torch.float, requires_grad=True).to(device)"
   ]
  },
  {
   "cell_type": "code",
   "execution_count": null,
   "id": "c4d960c1-14dd-495f-8e6d-b43dacfd68a7",
   "metadata": {},
   "outputs": [],
   "source": [
    "class Custom_L1_Loss(nn.Module):\n",
    "    def __init__(self):\n",
    "        super(Custom_L1_Loss, self).__init__();\n",
    "        self.loss = nn.L1Loss(reduction='none')\n",
    "    def forward(self, predictions, targets, tf):\n",
    "        loss_value = self.loss(predictions,targets)\n",
    "        mean_loss = loss_value.mean(dim=-1)\n",
    "        weighted_loss = torch.mean(mean_loss/tf)\n",
    "        return weighted_loss         \n"
   ]
  }
 ],
 "metadata": {
  "kernelspec": {
   "display_name": "ass3_GPU",
   "language": "python",
   "name": "ass3_gpu"
  },
  "language_info": {
   "codemirror_mode": {
    "name": "ipython",
    "version": 3
   },
   "file_extension": ".py",
   "mimetype": "text/x-python",
   "name": "python",
   "nbconvert_exporter": "python",
   "pygments_lexer": "ipython3",
   "version": "3.7.11"
  }
 },
 "nbformat": 4,
 "nbformat_minor": 5
}
